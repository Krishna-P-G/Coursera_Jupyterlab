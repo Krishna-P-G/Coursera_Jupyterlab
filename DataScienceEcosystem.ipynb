{
 "cells": [
  {
   "cell_type": "markdown",
   "id": "084ce06b-7bb5-4e37-9576-c2c4b03d75e7",
   "metadata": {},
   "source": [
    "# Data Science Tools and Ecosystem"
   ]
  },
  {
   "cell_type": "markdown",
   "id": "db6e1793-ebce-4e2f-a037-fb2d10a4a5ce",
   "metadata": {},
   "source": [
    " In this notebook, Data Science Tools and Ecosystem are summarized."
   ]
  },
  {
   "cell_type": "markdown",
   "id": "612a4fbc-38c1-480b-a152-df3f31995b52",
   "metadata": {},
   "source": [
    "**Objectives**:\n",
    "<ul>\n",
    "    <li>List popular languages for Data Science</li>\n",
    "    <li>List Commonly used libraries used by Data Scientists</li>\n",
    "    <li>List popular data science Tools</li>\n",
    "    <li>List Common Arthimetic Expressions used in Python</li>\n",
    "</ul>"
   ]
  },
  {
   "cell_type": "markdown",
   "id": "f584355b-e48d-4bd4-9617-9e40b758474e",
   "metadata": {},
   "source": [
    "Some of the popular languages that Data Scientists use are:\n",
    "1. Python\n",
    "2. R\n",
    "3. SQL"
   ]
  },
  {
   "cell_type": "markdown",
   "id": "a2657ab4-88bf-465f-b25d-3c55e060f3c1",
   "metadata": {},
   "source": [
    "Some of the commonly used libraries used by Data Scientists include:\n",
    "\n",
    "<ol>\n",
    "    <li>NumPy</li>\n",
    "    <li>Pandas</li>\n",
    "    <li>Matplotlib</li>\n",
    "    <li>Scikit-learn</li>\n",
    "</ol>"
   ]
  },
  {
   "cell_type": "markdown",
   "id": "ae895e40-60e9-48d3-8a13-9baca10780b5",
   "metadata": {},
   "source": [
    "<table>\n",
    "  <tr>\n",
    "    <th>Data Science Tools</th>\n",
    "  </tr>\n",
    "  <tr>\n",
    "    <td>Jupyter Notebook</td>\n",
    "  </tr>\n",
    "  <tr>\n",
    "    <td>RStudio</td>\n",
    "  </tr>\n",
    "  <tr>\n",
    "    <td>VS Code with Python</td>\n",
    "  </tr>\n",
    "    <tr>\n",
    "    <td>IBM Watson Studio</td>\n",
    "  </tr>\n",
    "</table>"
   ]
  },
  {
   "cell_type": "markdown",
   "id": "3036d68f-3ba2-4d1d-9c21-e6dd5d1aa181",
   "metadata": {},
   "source": [
    "### Below are a few examples of evaluating arithmetic expressions in Python"
   ]
  },
  {
   "cell_type": "code",
   "execution_count": 14,
   "id": "4843849a-4166-4c19-8c21-59d5eed2f9a7",
   "metadata": {
    "tags": []
   },
   "outputs": [
    {
     "data": {
      "text/plain": [
       "17"
      ]
     },
     "execution_count": 14,
     "metadata": {},
     "output_type": "execute_result"
    }
   ],
   "source": [
    "# This a simple arithmetic expression to mutiply then add integers\n",
    "(3*4)+5"
   ]
  },
  {
   "cell_type": "code",
   "execution_count": 24,
   "id": "6b5e0f01-d15f-4da4-a76e-663d73f9504f",
   "metadata": {
    "tags": []
   },
   "outputs": [
    {
     "name": "stdout",
     "output_type": "stream",
     "text": [
      "3.33 hours\n"
     ]
    }
   ],
   "source": [
    "# This will convert 200 minutes to hours by diving by 60\n",
    "mins = 200\n",
    "hours = 200 / 60\n",
    "print(f\"{round(hours,2)} hours\")"
   ]
  },
  {
   "cell_type": "markdown",
   "id": "0160d0d5-a12a-4f4b-a997-fd003cdc3a47",
   "metadata": {},
   "source": [
    "## Author\n",
    "\n",
    "This notebook was made by Krishna"
   ]
  },
  {
   "cell_type": "code",
   "execution_count": null,
   "id": "323492f9-fe25-4ff1-ba5e-56e9ddd24b3e",
   "metadata": {},
   "outputs": [],
   "source": []
  }
 ],
 "metadata": {
  "kernelspec": {
   "display_name": "Python 3 (ipykernel)",
   "language": "python",
   "name": "python3"
  },
  "language_info": {
   "codemirror_mode": {
    "name": "ipython",
    "version": 3
   },
   "file_extension": ".py",
   "mimetype": "text/x-python",
   "name": "python",
   "nbconvert_exporter": "python",
   "pygments_lexer": "ipython3",
   "version": "3.11.5"
  }
 },
 "nbformat": 4,
 "nbformat_minor": 5
}
